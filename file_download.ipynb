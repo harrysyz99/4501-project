{
 "cells": [
  {
   "cell_type": "code",
   "execution_count": 17,
   "metadata": {
    "ExecuteTime": {
     "end_time": "2023-12-10T16:13:26.559462Z",
     "start_time": "2023-12-10T16:13:26.557579Z"
    },
    "collapsed": false,
    "jupyter": {
     "outputs_hidden": false
    }
   },
   "outputs": [],
   "source": [
    "import requests\n",
    "from typing import Dict\n",
    "\n",
    "def download_data(url: str, headers: Dict[str, str], params: Dict[str, str], file_name: str) -> None:\n",
    "    \"\"\"\n",
    "    Downloads data from a specified URL and saves it to a file.\n",
    "\n",
    "    Args:\n",
    "        url (str): The URL from which to download data.\n",
    "        headers (Dict[str, str]): Headers to be sent with the request.\n",
    "        params (Dict[str, str]): Parameters for the request.\n",
    "        file_name (str): The name of the file where the data will be saved.\n",
    "\n",
    "    Returns:\n",
    "        None\n",
    "    \"\"\"\n",
    "    try:\n",
    "        print(\"Start download...\")\n",
    "\n",
    "        with requests.get(url, headers=headers, params=params, stream=True) as response:\n",
    "            response.raise_for_status()\n",
    "\n",
    "            with open(file_name, 'wb') as f:\n",
    "                for chunk in response.iter_content(chunk_size=8192): \n",
    "                    if chunk:\n",
    "                        f.write(chunk)\n",
    "                        print(f\"Downloading...\", end='\\r')\n",
    "\n",
    "        print(\"\\nDownload success!\")\n",
    "        print(f\"Saved to: {file_name}\")\n",
    "\n",
    "        # Count the number of columns in the downloaded file\n",
    "        with open(file_name, 'r') as f:\n",
    "            first_line = f.readline()\n",
    "            num_columns = len(first_line.split(','))  # Assuming CSV format\n",
    "            print(f\"Number of columns in the downloaded file: {num_columns}\")\n",
    "\n",
    "    except requests.HTTPError as http_err:\n",
    "        print(f\"HTTP error occurred: {http_err}\")\n",
    "    except Exception as err:\n",
    "        print(f\"An error occurred: {err}\")"
   ]
  },
  {
   "cell_type": "code",
   "execution_count": 18,
   "metadata": {
    "ExecuteTime": {
     "end_time": "2023-12-10T17:10:07.460127Z",
     "start_time": "2023-12-10T16:13:27.541720Z"
    },
    "collapsed": false,
    "jupyter": {
     "outputs_hidden": false
    }
   },
   "outputs": [
    {
     "name": "stdout",
     "output_type": "stream",
     "text": [
      "Start download...\n",
      "Downloading...\n",
      "Download success!\n",
      "Saved to: data/311_Service_Requests_from_2010_to_Present_20231129_2.csv\n",
      "Number of columns in the downloaded file: 41\n"
     ]
    }
   ],
   "source": [
    "# Configuration parameters\n",
    "api_url = \"https://data.cityofnewyork.us/api/views/erm2-nwe9/rows.csv\"\n",
    "headers = {\"X-App-Token\": \"LvzGOXrGAqB1eDxD7EoXm2ai3\"}\n",
    "query_params = {\"$limit\": 99999999}\n",
    "file_name = \"data/311_Service_Requests_from_2010_to_Present_20231129.csv\"  # Specify the desired filename here\n",
    "\n",
    "# Call the function to download the data and save it to a file\n",
    "data_311 = download_data(api_url, headers, query_params, file_name)\n"
   ]
  },
  {
   "cell_type": "code",
   "execution_count": null,
   "metadata": {
    "collapsed": false,
    "jupyter": {
     "outputs_hidden": false
    }
   },
   "outputs": [],
   "source": []
  },
  {
   "cell_type": "code",
   "execution_count": 4,
   "metadata": {
    "ExecuteTime": {
     "end_time": "2023-12-10T15:44:11.785312Z",
     "start_time": "2023-12-10T15:44:01.393885Z"
    },
    "collapsed": false,
    "jupyter": {
     "outputs_hidden": false
    }
   },
   "outputs": [
    {
     "name": "stdout",
     "output_type": "stream",
     "text": [
      "start download...\n",
      "\n",
      "download success！\n",
      "saved to: data/Bedbug_Reporting_20231203.csv\n"
     ]
    }
   ],
   "source": [
    "api_url = \"https://data.cityofnewyork.us/resource/wz6d-d3jb.csv\"\n",
    "headers = {\"X-App-Token\": \"LvzGOXrGAqB1eDxD7EoXm2ai3\"}\n",
    "query_params = {\"$limit\": 99999999}\n",
    "file_name = \"data/Bedbug_Reporting_20231203.csv\"  # Specify the desired filename here\n",
    "\n",
    "# Call the function to download the data and save it to a file\n",
    "bedbug = download_data(api_url, headers, query_params, file_name)"
   ]
  },
  {
   "cell_type": "code",
   "execution_count": 5,
   "metadata": {
    "ExecuteTime": {
     "end_time": "2023-12-10T15:44:55.440093Z",
     "start_time": "2023-12-10T15:44:11.786545Z"
    },
    "collapsed": false,
    "jupyter": {
     "outputs_hidden": false
    }
   },
   "outputs": [
    {
     "name": "stdout",
     "output_type": "stream",
     "text": [
      "start download...\n",
      "\n",
      "download success！\n",
      "saved to: data/2015StreetTreesCensus_TREES.csv\n"
     ]
    }
   ],
   "source": [
    "api_url = \"https://data.cityofnewyork.us/resource/5rq2-4hqu.csv\"\n",
    "headers = {\"X-App-Token\": \"LvzGOXrGAqB1eDxD7EoXm2ai3\"}\n",
    "query_params = {\"$limit\": 99999999}\n",
    "file_name = \"data/2015StreetTreesCensus_TREES.csv\"  # Specify the desired filename here\n",
    "\n",
    "# Call the function to download the data and save it to a file\n",
    "stc = download_data(api_url, headers, query_params, file_name)"
   ]
  }
 ],
 "metadata": {
  "kernelspec": {
   "display_name": "Python 3 (ipykernel)",
   "language": "python",
   "name": "python3"
  },
  "language_info": {
   "codemirror_mode": {
    "name": "ipython",
    "version": 3
   },
   "file_extension": ".py",
   "mimetype": "text/x-python",
   "name": "python",
   "nbconvert_exporter": "python",
   "pygments_lexer": "ipython3",
   "version": "3.11.4"
  }
 },
 "nbformat": 4,
 "nbformat_minor": 4
}
