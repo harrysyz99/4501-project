{
 "cells": [
  {
   "cell_type": "code",
   "execution_count": null,
   "metadata": {
    "collapsed": true,
    "is_executing": true,
    "ExecuteTime": {
     "start_time": "2023-12-08T06:29:39.761327400Z"
    }
   },
   "outputs": [],
   "source": [
    "import geopandas as gpd\n",
    "from typing import List, Union, Set\n",
    "import os\n",
    "import requests\n",
    "import pandas as pd\n",
    "\n",
    "output_folder = \"data\"\n",
    "chunk_size = 102400\n",
    "os.makedirs(output_folder, exist_ok=True)\n",
    "\n",
    "\n",
    "\n",
    "def download(url, filename):\n",
    "    # Send an HTTP GET request to the specified URL\n",
    "    r = requests.get(url, stream=True)\n",
    "\n",
    "    # Check if the request was successful (HTTP status code 200)\n",
    "    if r.status_code == 200:\n",
    "        # Open the file in write-binary mode\n",
    "        with open(filename, 'ab') as f:\n",
    "            # Define the chunk size (e.g., 1024 bytes)\n",
    "\n",
    "            count = 0\n",
    "            # Download the file in chunks\n",
    "            for chunk in r.iter_content(chunk_size=chunk_size):\n",
    "                # print(f\"{filename} has download {count} data\")\n",
    "                f.write(chunk)\n",
    "                # count+=chunk_size\n",
    "\n",
    "        print(f\"\\n{filename}Download complete.\")\n",
    "    else:\n",
    "        print(\"Error: Failed to download the file.\")\n",
    "\n",
    "urls = [\"https://data.cityofnewyork.us/api/views/erm2-nwe9/rows.csv?accessType=DOWNLOAD\",\n",
    "        \"https://data.cityofnewyork.us/resource/5rq2-4hqu.csv\",\n",
    "        \"https://data.cityofnewyork.us/resource/wz6d-d3jb.csv\"]\n",
    "\n",
    "filenames = [\"data/311_Service_Requests.csv\",\"data/2015 Street Tree Census.json\",\"data/Bedbug Reporting.csv\"]\n",
    "\n",
    "\n",
    "\n",
    "for i in range(len(urls)):\n",
    "    download(urls[i],filenames[i])"
   ]
  },
  {
   "cell_type": "code",
   "execution_count": null,
   "outputs": [],
   "source": [],
   "metadata": {
    "collapsed": false
   }
  }
 ],
 "metadata": {
  "kernelspec": {
   "display_name": "Python 3",
   "language": "python",
   "name": "python3"
  },
  "language_info": {
   "codemirror_mode": {
    "name": "ipython",
    "version": 2
   },
   "file_extension": ".py",
   "mimetype": "text/x-python",
   "name": "python",
   "nbconvert_exporter": "python",
   "pygments_lexer": "ipython2",
   "version": "2.7.6"
  }
 },
 "nbformat": 4,
 "nbformat_minor": 0
}
