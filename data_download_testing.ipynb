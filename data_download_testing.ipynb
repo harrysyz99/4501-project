{
 "cells": [
  {
   "cell_type": "code",
   "execution_count": 9,
   "metadata": {
    "collapsed": true,
    "ExecuteTime": {
     "end_time": "2023-12-09T08:38:50.037885600Z",
     "start_time": "2023-12-09T08:37:56.009057300Z"
    }
   },
   "outputs": [
    {
     "name": "stdout",
     "output_type": "stream",
     "text": [
      "\n",
      "data/2015_Street_Tree_Census.csvDownload complete.\n",
      "\n",
      "data/Bedbug_Reporting.csvDownload complete.\n"
     ]
    }
   ],
   "source": [
    "import geopandas as gpd\n",
    "from typing import List, Union, Set\n",
    "import os\n",
    "import requests\n",
    "import pandas as pd\n",
    "\n",
    "output_folder = \"data\"\n",
    "chunk_size = 102400\n",
    "os.makedirs(output_folder, exist_ok=True)\n",
    "\n",
    "headers = {\"X-App-Token\": \"LvzGOXrGAqB1eDxD7EoXm2ai3\"}\n",
    "\n",
    "def download(url, filename):\n",
    "    # Send an HTTP GET request to the specified URL\n",
    "    r = requests.get(url, stream=True,headers= headers)\n",
    "\n",
    "    # Check if the request was successful (HTTP status code 200)\n",
    "    if r.status_code == 200:\n",
    "        # Open the file in write-binary mode\n",
    "        with open(filename, 'ab') as f:\n",
    "            # Define the chunk size (e.g., 1024 bytes)\n",
    "\n",
    "            count = 0\n",
    "            # Download the file in chunks\n",
    "            for chunk in r.iter_content(chunk_size=chunk_size):\n",
    "                # print(f\"{filename} has download {count} data\")\n",
    "                f.write(chunk)\n",
    "                # count+=chunk_size\n",
    "\n",
    "        print(f\"\\n{filename}Download complete.\")\n",
    "    else:\n",
    "        print(\"Error: Failed to download the file.\")\n",
    "\n",
    "urls = [\"https://data.cityofnewyork.us/api/views/erm2-nwe9/rows.csv?accessType=DOWNLOAD\",\n",
    "        \"https://data.cityofnewyork.us/api/views/5rq2-4hqu/rows.csv?accessType=DOWNLOAD\",\n",
    "         \"https://data.cityofnewyork.us/api/views/wz6d-d3jb/rows.csv?date=20231209&accessType=DOWNLOAD\"]\n",
    "# urls = [\n",
    "#         \"https://data.cityofnewyork.us/api/views/5rq2-4hqu/rows.csv?accessType=DOWNLOAD\",\n",
    "#         \"https://data.cityofnewyork.us/api/views/wz6d-d3jb/rows.csv?date=20231209&accessType=DOWNLOAD\"]\n",
    "filenames = [\"data/311_Service_Requests.csv\",\"data/2015_Street_Tree_Census.csv\",\"data/Bedbug_Reporting.csv\"]\n",
    "# filenames = [\"data/2015_Street_Tree_Census.csv\",\"data/Bedbug_Reporting.csv\"]\n",
    "for i in range(len(urls)):\n",
    "    download(urls[i],filenames[i])"
   ]
  },
  {
   "cell_type": "code",
   "execution_count": 22,
   "outputs": [],
   "source": [
    "import requests\n",
    "import pandas as pd\n",
    "from io import StringIO\n",
    "\n",
    "def download_data(url: str, headers: dict, params: dict, file_name: str) -> pd.DataFrame:\n",
    "    try:\n",
    "        response = requests.get(url, headers=headers, params=params)\n",
    "        response.raise_for_status()\n",
    "\n",
    "        data = pd.read_csv(StringIO(response.text), error_bad_lines=False, warn_bad_lines=True)\n",
    "        print(\"数据集下载成功！\")\n",
    "\n",
    "        # Save the DataFrame to a CSV file\n",
    "        data.to_csv(file_name, index=False)\n",
    "        print(f\"数据已保存到文件: {file_name}\")\n",
    "\n",
    "        return data\n",
    "    except requests.HTTPError as http_err:\n",
    "        print(f\"HTTP error occurred: {http_err}\")\n",
    "    except Exception as err:\n",
    "        print(f\"An error occurred: {err}\")\n",
    "\n",
    "    return data\n",
    "\n"
   ],
   "metadata": {
    "collapsed": false,
    "ExecuteTime": {
     "end_time": "2023-12-09T19:30:28.743779900Z",
     "start_time": "2023-12-09T19:30:28.730779600Z"
    }
   }
  },
  {
   "cell_type": "code",
   "execution_count": null,
   "outputs": [],
   "source": [
    "# Configuration parameters\n",
    "api_url = \"https://data.cityofnewyork.us/resource/erm2-nwe9.csv\"\n",
    "headers = {\"X-App-Token\": \"LvzGOXrGAqB1eDxD7EoXm2ai3\"}\n",
    "query_params = {\"$limit\": 99999999}\n",
    "file_name = \"311_Service_Requests_from_2010_to_Present_20231129.csv\"  # Specify the desired filename here\n",
    "\n",
    "# Call the function to download the data and save it to a file\n",
    "data_311 = download_data(api_url, headers, query_params, file_name)\n"
   ],
   "metadata": {
    "collapsed": false
   }
  },
  {
   "cell_type": "code",
   "execution_count": 23,
   "outputs": [
    {
     "name": "stderr",
     "output_type": "stream",
     "text": [
      "C:\\Users\\asdf\\AppData\\Local\\Temp\\ipykernel_18124\\2669484281.py:10: FutureWarning: The error_bad_lines argument has been deprecated and will be removed in a future version. Use on_bad_lines in the future.\n",
      "\n",
      "\n",
      "  data = pd.read_csv(StringIO(response.text), error_bad_lines=False, warn_bad_lines=True)\n",
      "C:\\Users\\asdf\\AppData\\Local\\Temp\\ipykernel_18124\\2669484281.py:10: FutureWarning: The warn_bad_lines argument has been deprecated and will be removed in a future version. Use on_bad_lines in the future.\n",
      "\n",
      "\n",
      "  data = pd.read_csv(StringIO(response.text), error_bad_lines=False, warn_bad_lines=True)\n",
      "C:\\Users\\asdf\\AppData\\Local\\Temp\\ipykernel_18124\\2669484281.py:10: DtypeWarning: Columns (3) have mixed types. Specify dtype option on import or set low_memory=False.\n",
      "  data = pd.read_csv(StringIO(response.text), error_bad_lines=False, warn_bad_lines=True)\n"
     ]
    },
    {
     "name": "stdout",
     "output_type": "stream",
     "text": [
      "数据集下载成功！\n",
      "数据已保存到文件: Bedbug_Reporting_20231203.csv\n"
     ]
    }
   ],
   "source": [
    "api_url = \"https://data.cityofnewyork.us/resource/wz6d-d3jb.csv\"\n",
    "headers = {\"X-App-Token\": \"LvzGOXrGAqB1eDxD7EoXm2ai3\"}\n",
    "query_params = {\"$limit\": 99999999}\n",
    "file_name = \"Bedbug_Reporting_20231203.csv\"  # Specify the desired filename here\n",
    "\n",
    "# Call the function to download the data and save it to a file\n",
    "bedbug = download_data(api_url, headers, query_params, file_name)"
   ],
   "metadata": {
    "collapsed": false,
    "ExecuteTime": {
     "end_time": "2023-12-09T19:30:48.136910600Z",
     "start_time": "2023-12-09T19:30:32.841496400Z"
    }
   }
  },
  {
   "cell_type": "code",
   "execution_count": 27,
   "outputs": [
    {
     "name": "stderr",
     "output_type": "stream",
     "text": [
      "C:\\Users\\asdf\\AppData\\Local\\Temp\\ipykernel_18124\\2669484281.py:10: FutureWarning: The error_bad_lines argument has been deprecated and will be removed in a future version. Use on_bad_lines in the future.\n",
      "\n",
      "\n",
      "  data = pd.read_csv(StringIO(response.text), error_bad_lines=False, warn_bad_lines=True)\n",
      "C:\\Users\\asdf\\AppData\\Local\\Temp\\ipykernel_18124\\2669484281.py:10: FutureWarning: The warn_bad_lines argument has been deprecated and will be removed in a future version. Use on_bad_lines in the future.\n",
      "\n",
      "\n",
      "  data = pd.read_csv(StringIO(response.text), error_bad_lines=False, warn_bad_lines=True)\n"
     ]
    },
    {
     "name": "stdout",
     "output_type": "stream",
     "text": [
      "数据集下载成功！\n",
      "数据已保存到文件: 2015StreetTreesCensus_TREES.csv\n"
     ]
    }
   ],
   "source": [
    "api_url = \"https://data.cityofnewyork.us/resource/5rq2-4hqu.csv\"\n",
    "headers = {\"X-App-Token\": \"LvzGOXrGAqB1eDxD7EoXm2ai3\"}\n",
    "query_params = {\"$limit\": 99999999}\n",
    "file_name = \"2015StreetTreesCensus_TREES.csv\"  # Specify the desired filename here\n",
    "\n",
    "# Call the function to download the data and save it to a file\n",
    "stc = download_data(api_url, headers, query_params, file_name)"
   ],
   "metadata": {
    "collapsed": false,
    "ExecuteTime": {
     "end_time": "2023-12-09T19:34:14.988485900Z",
     "start_time": "2023-12-09T19:33:13.139655600Z"
    }
   }
  },
  {
   "cell_type": "code",
   "execution_count": 24,
   "outputs": [
    {
     "data": {
      "text/plain": "        building_id  registration_id   borough house_number  \\\n0            344156           306009  BROOKLYN          161   \n1            170777           316161  BROOKLYN         1854   \n2            358122           357464  BROOKLYN          389   \n3            705843           403865    QUEENS          861   \n4            877716           379778  BROOKLYN          912   \n...             ...              ...       ...          ...   \n369223       416021           430155    QUEENS        32-14   \n369224       990475           921919    QUEENS      213-07A   \n369225       418600           405984    QUEENS       199-08   \n369226       470425           920278    QUEENS        30-54   \n369227       930612           429598    QUEENS       150-29   \n\n                    street_name  postcode  of_dwelling_units  \\\n0                  NEWEL STREET   11222.0                6.0   \n1                     74 STREET   11204.0                3.0   \n2                 PUTNAM AVENUE   11216.0                3.0   \n3               WOODWARD AVENUE   11385.0                4.0   \n4       MOTHER GASTON BOULEVARD   11212.0                3.0   \n...                         ...       ...                ...   \n369223                30 AVENUE   11102.0                8.0   \n369224          HILLSIDE AVENUE   11427.0                2.0   \n369225                32 AVENUE   11358.0                5.0   \n369226                73 STREET   11370.0                2.0   \n369227                  72 ROAD   11367.0               66.0   \n\n        infested_dwelling_unit_count  eradicated_unit_count  \\\n0                                0.0                    0.0   \n1                                0.0                    0.0   \n2                                0.0                    0.0   \n3                                0.0                    0.0   \n4                                0.0                    0.0   \n...                              ...                    ...   \n369223                           0.0                    0.0   \n369224                           0.0                    0.0   \n369225                           0.0                    0.0   \n369226                           0.0                    2.0   \n369227                           0.0                    0.0   \n\n        re_infested_dwelling_unit  ... filing_period_start_date  \\\n0                             0.0  ...  2019-11-01T00:00:00.000   \n1                             0.0  ...  2020-11-01T00:00:00.000   \n2                             0.0  ...  2021-11-01T00:00:00.000   \n3                             0.0  ...  2019-11-01T00:00:00.000   \n4                             0.0  ...  2021-11-01T00:00:00.000   \n...                           ...  ...                      ...   \n369223                        0.0  ...  2019-11-01T00:00:00.000   \n369224                        0.0  ...  2021-11-01T00:00:00.000   \n369225                        0.0  ...  2020-11-01T00:00:00.000   \n369226                        0.0  ...  2020-11-01T00:00:00.000   \n369227                        0.0  ...  2021-11-01T00:00:00.000   \n\n        filling_period_end_date   latitude  longitude  community_board  \\\n0       2020-10-31T00:00:00.000  40.727680 -73.949030              1.0   \n1       2021-10-31T00:00:00.000  40.613333 -73.994291             11.0   \n2       2022-10-31T00:00:00.000  40.684545 -73.945667              3.0   \n3       2020-10-31T00:00:00.000  40.702903 -73.902286              5.0   \n4       2022-10-31T00:00:00.000  40.656147 -73.903403             16.0   \n...                         ...        ...        ...              ...   \n369223  2020-10-31T00:00:00.000  40.766422 -73.920391              1.0   \n369224  2022-10-31T00:00:00.000  40.725671 -73.752440             13.0   \n369225  2021-10-31T00:00:00.000  40.769538 -73.789856             11.0   \n369226  2021-10-31T00:00:00.000  40.759274 -73.894576              3.0   \n369227  2022-10-31T00:00:00.000  40.727588 -73.816146              8.0   \n\n        city_council_district  census_tract_2010        bin           bbl  \\\n0                        33.0              573.0  3065755.0  3.026230e+09   \n1                        47.0              274.0  3159693.0  3.062160e+09   \n2                        36.0              267.0  3051701.0  3.018240e+09   \n3                        30.0              585.0  4083378.0  4.034830e+09   \n4                        42.0              922.0  3388522.0  3.036390e+09   \n...                       ...                ...        ...           ...   \n369223                   22.0               63.0  4008591.0  4.006168e+09   \n369224                   23.0              552.0  4451885.0  4.106810e+09   \n369225                   19.0             1099.0  4134129.0  4.060260e+09   \n369226                   22.0            30905.0  4024752.0  4.011210e+09   \n369227                   24.0            77906.0  4451495.0  4.066980e+09   \n\n                              nta  \n0                      Greenpoint  \n1                     Bensonhurst  \n2       Bedford-Stuyvesant (West)  \n3                       Ridgewood  \n4                     Brownsville  \n...                           ...  \n369223          Astoria (Central)  \n369224             Queens Village  \n369225                 Auburndale  \n369226            Jackson Heights  \n369227          Kew Gardens Hills  \n\n[369228 rows x 21 columns]",
      "text/html": "<div>\n<style scoped>\n    .dataframe tbody tr th:only-of-type {\n        vertical-align: middle;\n    }\n\n    .dataframe tbody tr th {\n        vertical-align: top;\n    }\n\n    .dataframe thead th {\n        text-align: right;\n    }\n</style>\n<table border=\"1\" class=\"dataframe\">\n  <thead>\n    <tr style=\"text-align: right;\">\n      <th></th>\n      <th>building_id</th>\n      <th>registration_id</th>\n      <th>borough</th>\n      <th>house_number</th>\n      <th>street_name</th>\n      <th>postcode</th>\n      <th>of_dwelling_units</th>\n      <th>infested_dwelling_unit_count</th>\n      <th>eradicated_unit_count</th>\n      <th>re_infested_dwelling_unit</th>\n      <th>...</th>\n      <th>filing_period_start_date</th>\n      <th>filling_period_end_date</th>\n      <th>latitude</th>\n      <th>longitude</th>\n      <th>community_board</th>\n      <th>city_council_district</th>\n      <th>census_tract_2010</th>\n      <th>bin</th>\n      <th>bbl</th>\n      <th>nta</th>\n    </tr>\n  </thead>\n  <tbody>\n    <tr>\n      <th>0</th>\n      <td>344156</td>\n      <td>306009</td>\n      <td>BROOKLYN</td>\n      <td>161</td>\n      <td>NEWEL STREET</td>\n      <td>11222.0</td>\n      <td>6.0</td>\n      <td>0.0</td>\n      <td>0.0</td>\n      <td>0.0</td>\n      <td>...</td>\n      <td>2019-11-01T00:00:00.000</td>\n      <td>2020-10-31T00:00:00.000</td>\n      <td>40.727680</td>\n      <td>-73.949030</td>\n      <td>1.0</td>\n      <td>33.0</td>\n      <td>573.0</td>\n      <td>3065755.0</td>\n      <td>3.026230e+09</td>\n      <td>Greenpoint</td>\n    </tr>\n    <tr>\n      <th>1</th>\n      <td>170777</td>\n      <td>316161</td>\n      <td>BROOKLYN</td>\n      <td>1854</td>\n      <td>74 STREET</td>\n      <td>11204.0</td>\n      <td>3.0</td>\n      <td>0.0</td>\n      <td>0.0</td>\n      <td>0.0</td>\n      <td>...</td>\n      <td>2020-11-01T00:00:00.000</td>\n      <td>2021-10-31T00:00:00.000</td>\n      <td>40.613333</td>\n      <td>-73.994291</td>\n      <td>11.0</td>\n      <td>47.0</td>\n      <td>274.0</td>\n      <td>3159693.0</td>\n      <td>3.062160e+09</td>\n      <td>Bensonhurst</td>\n    </tr>\n    <tr>\n      <th>2</th>\n      <td>358122</td>\n      <td>357464</td>\n      <td>BROOKLYN</td>\n      <td>389</td>\n      <td>PUTNAM AVENUE</td>\n      <td>11216.0</td>\n      <td>3.0</td>\n      <td>0.0</td>\n      <td>0.0</td>\n      <td>0.0</td>\n      <td>...</td>\n      <td>2021-11-01T00:00:00.000</td>\n      <td>2022-10-31T00:00:00.000</td>\n      <td>40.684545</td>\n      <td>-73.945667</td>\n      <td>3.0</td>\n      <td>36.0</td>\n      <td>267.0</td>\n      <td>3051701.0</td>\n      <td>3.018240e+09</td>\n      <td>Bedford-Stuyvesant (West)</td>\n    </tr>\n    <tr>\n      <th>3</th>\n      <td>705843</td>\n      <td>403865</td>\n      <td>QUEENS</td>\n      <td>861</td>\n      <td>WOODWARD AVENUE</td>\n      <td>11385.0</td>\n      <td>4.0</td>\n      <td>0.0</td>\n      <td>0.0</td>\n      <td>0.0</td>\n      <td>...</td>\n      <td>2019-11-01T00:00:00.000</td>\n      <td>2020-10-31T00:00:00.000</td>\n      <td>40.702903</td>\n      <td>-73.902286</td>\n      <td>5.0</td>\n      <td>30.0</td>\n      <td>585.0</td>\n      <td>4083378.0</td>\n      <td>4.034830e+09</td>\n      <td>Ridgewood</td>\n    </tr>\n    <tr>\n      <th>4</th>\n      <td>877716</td>\n      <td>379778</td>\n      <td>BROOKLYN</td>\n      <td>912</td>\n      <td>MOTHER GASTON BOULEVARD</td>\n      <td>11212.0</td>\n      <td>3.0</td>\n      <td>0.0</td>\n      <td>0.0</td>\n      <td>0.0</td>\n      <td>...</td>\n      <td>2021-11-01T00:00:00.000</td>\n      <td>2022-10-31T00:00:00.000</td>\n      <td>40.656147</td>\n      <td>-73.903403</td>\n      <td>16.0</td>\n      <td>42.0</td>\n      <td>922.0</td>\n      <td>3388522.0</td>\n      <td>3.036390e+09</td>\n      <td>Brownsville</td>\n    </tr>\n    <tr>\n      <th>...</th>\n      <td>...</td>\n      <td>...</td>\n      <td>...</td>\n      <td>...</td>\n      <td>...</td>\n      <td>...</td>\n      <td>...</td>\n      <td>...</td>\n      <td>...</td>\n      <td>...</td>\n      <td>...</td>\n      <td>...</td>\n      <td>...</td>\n      <td>...</td>\n      <td>...</td>\n      <td>...</td>\n      <td>...</td>\n      <td>...</td>\n      <td>...</td>\n      <td>...</td>\n      <td>...</td>\n    </tr>\n    <tr>\n      <th>369223</th>\n      <td>416021</td>\n      <td>430155</td>\n      <td>QUEENS</td>\n      <td>32-14</td>\n      <td>30 AVENUE</td>\n      <td>11102.0</td>\n      <td>8.0</td>\n      <td>0.0</td>\n      <td>0.0</td>\n      <td>0.0</td>\n      <td>...</td>\n      <td>2019-11-01T00:00:00.000</td>\n      <td>2020-10-31T00:00:00.000</td>\n      <td>40.766422</td>\n      <td>-73.920391</td>\n      <td>1.0</td>\n      <td>22.0</td>\n      <td>63.0</td>\n      <td>4008591.0</td>\n      <td>4.006168e+09</td>\n      <td>Astoria (Central)</td>\n    </tr>\n    <tr>\n      <th>369224</th>\n      <td>990475</td>\n      <td>921919</td>\n      <td>QUEENS</td>\n      <td>213-07A</td>\n      <td>HILLSIDE AVENUE</td>\n      <td>11427.0</td>\n      <td>2.0</td>\n      <td>0.0</td>\n      <td>0.0</td>\n      <td>0.0</td>\n      <td>...</td>\n      <td>2021-11-01T00:00:00.000</td>\n      <td>2022-10-31T00:00:00.000</td>\n      <td>40.725671</td>\n      <td>-73.752440</td>\n      <td>13.0</td>\n      <td>23.0</td>\n      <td>552.0</td>\n      <td>4451885.0</td>\n      <td>4.106810e+09</td>\n      <td>Queens Village</td>\n    </tr>\n    <tr>\n      <th>369225</th>\n      <td>418600</td>\n      <td>405984</td>\n      <td>QUEENS</td>\n      <td>199-08</td>\n      <td>32 AVENUE</td>\n      <td>11358.0</td>\n      <td>5.0</td>\n      <td>0.0</td>\n      <td>0.0</td>\n      <td>0.0</td>\n      <td>...</td>\n      <td>2020-11-01T00:00:00.000</td>\n      <td>2021-10-31T00:00:00.000</td>\n      <td>40.769538</td>\n      <td>-73.789856</td>\n      <td>11.0</td>\n      <td>19.0</td>\n      <td>1099.0</td>\n      <td>4134129.0</td>\n      <td>4.060260e+09</td>\n      <td>Auburndale</td>\n    </tr>\n    <tr>\n      <th>369226</th>\n      <td>470425</td>\n      <td>920278</td>\n      <td>QUEENS</td>\n      <td>30-54</td>\n      <td>73 STREET</td>\n      <td>11370.0</td>\n      <td>2.0</td>\n      <td>0.0</td>\n      <td>2.0</td>\n      <td>0.0</td>\n      <td>...</td>\n      <td>2020-11-01T00:00:00.000</td>\n      <td>2021-10-31T00:00:00.000</td>\n      <td>40.759274</td>\n      <td>-73.894576</td>\n      <td>3.0</td>\n      <td>22.0</td>\n      <td>30905.0</td>\n      <td>4024752.0</td>\n      <td>4.011210e+09</td>\n      <td>Jackson Heights</td>\n    </tr>\n    <tr>\n      <th>369227</th>\n      <td>930612</td>\n      <td>429598</td>\n      <td>QUEENS</td>\n      <td>150-29</td>\n      <td>72 ROAD</td>\n      <td>11367.0</td>\n      <td>66.0</td>\n      <td>0.0</td>\n      <td>0.0</td>\n      <td>0.0</td>\n      <td>...</td>\n      <td>2021-11-01T00:00:00.000</td>\n      <td>2022-10-31T00:00:00.000</td>\n      <td>40.727588</td>\n      <td>-73.816146</td>\n      <td>8.0</td>\n      <td>24.0</td>\n      <td>77906.0</td>\n      <td>4451495.0</td>\n      <td>4.066980e+09</td>\n      <td>Kew Gardens Hills</td>\n    </tr>\n  </tbody>\n</table>\n<p>369228 rows × 21 columns</p>\n</div>"
     },
     "execution_count": 24,
     "metadata": {},
     "output_type": "execute_result"
    }
   ],
   "source": [
    "bedbug"
   ],
   "metadata": {
    "collapsed": false,
    "ExecuteTime": {
     "end_time": "2023-12-09T19:30:48.230971300Z",
     "start_time": "2023-12-09T19:30:48.138910500Z"
    }
   }
  },
  {
   "cell_type": "code",
   "execution_count": 25,
   "outputs": [
    {
     "name": "stderr",
     "output_type": "stream",
     "text": [
      "C:\\Users\\asdf\\AppData\\Local\\Temp\\ipykernel_18124\\2812604948.py:1: DtypeWarning: Columns (3) have mixed types. Specify dtype option on import or set low_memory=False.\n",
      "  pd.read_csv(\"data/Bedbug_Reporting_20231203.csv\")\n"
     ]
    },
    {
     "data": {
      "text/plain": "        Building ID  Registration ID   Borough House Number  \\\n0            344156           306009  BROOKLYN          161   \n1            170777           316161  BROOKLYN         1854   \n2            358122           357464  BROOKLYN          389   \n3            705843           403865    QUEENS          861   \n4            877716           379778  BROOKLYN          912   \n...             ...              ...       ...          ...   \n369223       416021           430155    QUEENS        32-14   \n369224       990475           921919    QUEENS      213-07A   \n369225       418600           405984    QUEENS       199-08   \n369226       470425           920278    QUEENS        30-54   \n369227       930612           429598    QUEENS       150-29   \n\n                    Street Name  Postcode  # of Dwelling Units  \\\n0                  NEWEL STREET   11222.0                  6.0   \n1                     74 STREET   11204.0                  3.0   \n2                 PUTNAM AVENUE   11216.0                  3.0   \n3               WOODWARD AVENUE   11385.0                  4.0   \n4       MOTHER GASTON BOULEVARD   11212.0                  3.0   \n...                         ...       ...                  ...   \n369223                30 AVENUE   11102.0                  8.0   \n369224          HILLSIDE AVENUE   11427.0                  2.0   \n369225                32 AVENUE   11358.0                  5.0   \n369226                73 STREET   11370.0                  2.0   \n369227                  72 ROAD   11367.0                 66.0   \n\n        Infested Dwelling Unit Count  Eradicated Unit Count  \\\n0                                0.0                    0.0   \n1                                0.0                    0.0   \n2                                0.0                    0.0   \n3                                0.0                    0.0   \n4                                0.0                    0.0   \n...                              ...                    ...   \n369223                           0.0                    0.0   \n369224                           0.0                    0.0   \n369225                           0.0                    0.0   \n369226                           0.0                    2.0   \n369227                           0.0                    0.0   \n\n        Re-infested  Dwelling Unit Count  ... Filing Period Start Date  \\\n0                                    0.0  ...               11/01/2019   \n1                                    0.0  ...               11/01/2020   \n2                                    0.0  ...               11/01/2021   \n3                                    0.0  ...               11/01/2019   \n4                                    0.0  ...               11/01/2021   \n...                                  ...  ...                      ...   \n369223                               0.0  ...               11/01/2019   \n369224                               0.0  ...               11/01/2021   \n369225                               0.0  ...               11/01/2020   \n369226                               0.0  ...               11/01/2020   \n369227                               0.0  ...               11/01/2021   \n\n       Filling Period End Date   Latitude  Longitude  Community Board  \\\n0                   10/31/2020  40.727680 -73.949030              1.0   \n1                   10/31/2021  40.613333 -73.994291             11.0   \n2                   10/31/2022  40.684545 -73.945667              3.0   \n3                   10/31/2020  40.702903 -73.902286              5.0   \n4                   10/31/2022  40.656147 -73.903403             16.0   \n...                        ...        ...        ...              ...   \n369223              10/31/2020  40.766422 -73.920391              1.0   \n369224              10/31/2022  40.725671 -73.752440             13.0   \n369225              10/31/2021  40.769538 -73.789856             11.0   \n369226              10/31/2021  40.759274 -73.894576              3.0   \n369227              10/31/2022  40.727588 -73.816146              8.0   \n\n        Council District  2010 Census Tract        BIN           BBL  \\\n0                   33.0              573.0  3065755.0  3.026230e+09   \n1                   47.0              274.0  3159693.0  3.062160e+09   \n2                   36.0              267.0  3051701.0  3.018240e+09   \n3                   30.0              585.0  4083378.0  4.034830e+09   \n4                   42.0              922.0  3388522.0  3.036390e+09   \n...                  ...                ...        ...           ...   \n369223              22.0               63.0  4008591.0  4.006168e+09   \n369224              23.0              552.0  4451885.0  4.106810e+09   \n369225              19.0             1099.0  4134129.0  4.060260e+09   \n369226              22.0            30905.0  4024752.0  4.011210e+09   \n369227              24.0            77906.0  4451495.0  4.066980e+09   \n\n                              NTA  \n0                      Greenpoint  \n1                     Bensonhurst  \n2       Bedford-Stuyvesant (West)  \n3                       Ridgewood  \n4                     Brownsville  \n...                           ...  \n369223          Astoria (Central)  \n369224             Queens Village  \n369225                 Auburndale  \n369226            Jackson Heights  \n369227          Kew Gardens Hills  \n\n[369228 rows x 21 columns]",
      "text/html": "<div>\n<style scoped>\n    .dataframe tbody tr th:only-of-type {\n        vertical-align: middle;\n    }\n\n    .dataframe tbody tr th {\n        vertical-align: top;\n    }\n\n    .dataframe thead th {\n        text-align: right;\n    }\n</style>\n<table border=\"1\" class=\"dataframe\">\n  <thead>\n    <tr style=\"text-align: right;\">\n      <th></th>\n      <th>Building ID</th>\n      <th>Registration ID</th>\n      <th>Borough</th>\n      <th>House Number</th>\n      <th>Street Name</th>\n      <th>Postcode</th>\n      <th># of Dwelling Units</th>\n      <th>Infested Dwelling Unit Count</th>\n      <th>Eradicated Unit Count</th>\n      <th>Re-infested  Dwelling Unit Count</th>\n      <th>...</th>\n      <th>Filing Period Start Date</th>\n      <th>Filling Period End Date</th>\n      <th>Latitude</th>\n      <th>Longitude</th>\n      <th>Community Board</th>\n      <th>Council District</th>\n      <th>2010 Census Tract</th>\n      <th>BIN</th>\n      <th>BBL</th>\n      <th>NTA</th>\n    </tr>\n  </thead>\n  <tbody>\n    <tr>\n      <th>0</th>\n      <td>344156</td>\n      <td>306009</td>\n      <td>BROOKLYN</td>\n      <td>161</td>\n      <td>NEWEL STREET</td>\n      <td>11222.0</td>\n      <td>6.0</td>\n      <td>0.0</td>\n      <td>0.0</td>\n      <td>0.0</td>\n      <td>...</td>\n      <td>11/01/2019</td>\n      <td>10/31/2020</td>\n      <td>40.727680</td>\n      <td>-73.949030</td>\n      <td>1.0</td>\n      <td>33.0</td>\n      <td>573.0</td>\n      <td>3065755.0</td>\n      <td>3.026230e+09</td>\n      <td>Greenpoint</td>\n    </tr>\n    <tr>\n      <th>1</th>\n      <td>170777</td>\n      <td>316161</td>\n      <td>BROOKLYN</td>\n      <td>1854</td>\n      <td>74 STREET</td>\n      <td>11204.0</td>\n      <td>3.0</td>\n      <td>0.0</td>\n      <td>0.0</td>\n      <td>0.0</td>\n      <td>...</td>\n      <td>11/01/2020</td>\n      <td>10/31/2021</td>\n      <td>40.613333</td>\n      <td>-73.994291</td>\n      <td>11.0</td>\n      <td>47.0</td>\n      <td>274.0</td>\n      <td>3159693.0</td>\n      <td>3.062160e+09</td>\n      <td>Bensonhurst</td>\n    </tr>\n    <tr>\n      <th>2</th>\n      <td>358122</td>\n      <td>357464</td>\n      <td>BROOKLYN</td>\n      <td>389</td>\n      <td>PUTNAM AVENUE</td>\n      <td>11216.0</td>\n      <td>3.0</td>\n      <td>0.0</td>\n      <td>0.0</td>\n      <td>0.0</td>\n      <td>...</td>\n      <td>11/01/2021</td>\n      <td>10/31/2022</td>\n      <td>40.684545</td>\n      <td>-73.945667</td>\n      <td>3.0</td>\n      <td>36.0</td>\n      <td>267.0</td>\n      <td>3051701.0</td>\n      <td>3.018240e+09</td>\n      <td>Bedford-Stuyvesant (West)</td>\n    </tr>\n    <tr>\n      <th>3</th>\n      <td>705843</td>\n      <td>403865</td>\n      <td>QUEENS</td>\n      <td>861</td>\n      <td>WOODWARD AVENUE</td>\n      <td>11385.0</td>\n      <td>4.0</td>\n      <td>0.0</td>\n      <td>0.0</td>\n      <td>0.0</td>\n      <td>...</td>\n      <td>11/01/2019</td>\n      <td>10/31/2020</td>\n      <td>40.702903</td>\n      <td>-73.902286</td>\n      <td>5.0</td>\n      <td>30.0</td>\n      <td>585.0</td>\n      <td>4083378.0</td>\n      <td>4.034830e+09</td>\n      <td>Ridgewood</td>\n    </tr>\n    <tr>\n      <th>4</th>\n      <td>877716</td>\n      <td>379778</td>\n      <td>BROOKLYN</td>\n      <td>912</td>\n      <td>MOTHER GASTON BOULEVARD</td>\n      <td>11212.0</td>\n      <td>3.0</td>\n      <td>0.0</td>\n      <td>0.0</td>\n      <td>0.0</td>\n      <td>...</td>\n      <td>11/01/2021</td>\n      <td>10/31/2022</td>\n      <td>40.656147</td>\n      <td>-73.903403</td>\n      <td>16.0</td>\n      <td>42.0</td>\n      <td>922.0</td>\n      <td>3388522.0</td>\n      <td>3.036390e+09</td>\n      <td>Brownsville</td>\n    </tr>\n    <tr>\n      <th>...</th>\n      <td>...</td>\n      <td>...</td>\n      <td>...</td>\n      <td>...</td>\n      <td>...</td>\n      <td>...</td>\n      <td>...</td>\n      <td>...</td>\n      <td>...</td>\n      <td>...</td>\n      <td>...</td>\n      <td>...</td>\n      <td>...</td>\n      <td>...</td>\n      <td>...</td>\n      <td>...</td>\n      <td>...</td>\n      <td>...</td>\n      <td>...</td>\n      <td>...</td>\n      <td>...</td>\n    </tr>\n    <tr>\n      <th>369223</th>\n      <td>416021</td>\n      <td>430155</td>\n      <td>QUEENS</td>\n      <td>32-14</td>\n      <td>30 AVENUE</td>\n      <td>11102.0</td>\n      <td>8.0</td>\n      <td>0.0</td>\n      <td>0.0</td>\n      <td>0.0</td>\n      <td>...</td>\n      <td>11/01/2019</td>\n      <td>10/31/2020</td>\n      <td>40.766422</td>\n      <td>-73.920391</td>\n      <td>1.0</td>\n      <td>22.0</td>\n      <td>63.0</td>\n      <td>4008591.0</td>\n      <td>4.006168e+09</td>\n      <td>Astoria (Central)</td>\n    </tr>\n    <tr>\n      <th>369224</th>\n      <td>990475</td>\n      <td>921919</td>\n      <td>QUEENS</td>\n      <td>213-07A</td>\n      <td>HILLSIDE AVENUE</td>\n      <td>11427.0</td>\n      <td>2.0</td>\n      <td>0.0</td>\n      <td>0.0</td>\n      <td>0.0</td>\n      <td>...</td>\n      <td>11/01/2021</td>\n      <td>10/31/2022</td>\n      <td>40.725671</td>\n      <td>-73.752440</td>\n      <td>13.0</td>\n      <td>23.0</td>\n      <td>552.0</td>\n      <td>4451885.0</td>\n      <td>4.106810e+09</td>\n      <td>Queens Village</td>\n    </tr>\n    <tr>\n      <th>369225</th>\n      <td>418600</td>\n      <td>405984</td>\n      <td>QUEENS</td>\n      <td>199-08</td>\n      <td>32 AVENUE</td>\n      <td>11358.0</td>\n      <td>5.0</td>\n      <td>0.0</td>\n      <td>0.0</td>\n      <td>0.0</td>\n      <td>...</td>\n      <td>11/01/2020</td>\n      <td>10/31/2021</td>\n      <td>40.769538</td>\n      <td>-73.789856</td>\n      <td>11.0</td>\n      <td>19.0</td>\n      <td>1099.0</td>\n      <td>4134129.0</td>\n      <td>4.060260e+09</td>\n      <td>Auburndale</td>\n    </tr>\n    <tr>\n      <th>369226</th>\n      <td>470425</td>\n      <td>920278</td>\n      <td>QUEENS</td>\n      <td>30-54</td>\n      <td>73 STREET</td>\n      <td>11370.0</td>\n      <td>2.0</td>\n      <td>0.0</td>\n      <td>2.0</td>\n      <td>0.0</td>\n      <td>...</td>\n      <td>11/01/2020</td>\n      <td>10/31/2021</td>\n      <td>40.759274</td>\n      <td>-73.894576</td>\n      <td>3.0</td>\n      <td>22.0</td>\n      <td>30905.0</td>\n      <td>4024752.0</td>\n      <td>4.011210e+09</td>\n      <td>Jackson Heights</td>\n    </tr>\n    <tr>\n      <th>369227</th>\n      <td>930612</td>\n      <td>429598</td>\n      <td>QUEENS</td>\n      <td>150-29</td>\n      <td>72 ROAD</td>\n      <td>11367.0</td>\n      <td>66.0</td>\n      <td>0.0</td>\n      <td>0.0</td>\n      <td>0.0</td>\n      <td>...</td>\n      <td>11/01/2021</td>\n      <td>10/31/2022</td>\n      <td>40.727588</td>\n      <td>-73.816146</td>\n      <td>8.0</td>\n      <td>24.0</td>\n      <td>77906.0</td>\n      <td>4451495.0</td>\n      <td>4.066980e+09</td>\n      <td>Kew Gardens Hills</td>\n    </tr>\n  </tbody>\n</table>\n<p>369228 rows × 21 columns</p>\n</div>"
     },
     "execution_count": 25,
     "metadata": {},
     "output_type": "execute_result"
    }
   ],
   "source": [
    "pd.read_csv(\"data/Bedbug_Reporting_20231203.csv\")"
   ],
   "metadata": {
    "collapsed": false,
    "ExecuteTime": {
     "end_time": "2023-12-09T19:31:14.165607100Z",
     "start_time": "2023-12-09T19:31:13.546564Z"
    }
   }
  },
  {
   "cell_type": "code",
   "execution_count": null,
   "outputs": [],
   "source": [],
   "metadata": {
    "collapsed": false
   }
  }
 ],
 "metadata": {
  "kernelspec": {
   "display_name": "Python 3",
   "language": "python",
   "name": "python3"
  },
  "language_info": {
   "codemirror_mode": {
    "name": "ipython",
    "version": 2
   },
   "file_extension": ".py",
   "mimetype": "text/x-python",
   "name": "python",
   "nbconvert_exporter": "python",
   "pygments_lexer": "ipython2",
   "version": "2.7.6"
  }
 },
 "nbformat": 4,
 "nbformat_minor": 0
}
