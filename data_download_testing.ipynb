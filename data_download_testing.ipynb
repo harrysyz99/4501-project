{
 "cells": [
  {
   "cell_type": "code",
   "execution_count": 9,
   "metadata": {
    "collapsed": true,
    "ExecuteTime": {
     "end_time": "2023-12-09T08:38:50.037885600Z",
     "start_time": "2023-12-09T08:37:56.009057300Z"
    }
   },
   "outputs": [
    {
     "name": "stdout",
     "output_type": "stream",
     "text": [
      "\n",
      "data/2015_Street_Tree_Census.csvDownload complete.\n",
      "\n",
      "data/Bedbug_Reporting.csvDownload complete.\n"
     ]
    }
   ],
   "source": [
    "import geopandas as gpd\n",
    "from typing import List, Union, Set\n",
    "import os\n",
    "import requests\n",
    "import pandas as pd\n",
    "\n",
    "output_folder = \"data\"\n",
    "chunk_size = 102400\n",
    "os.makedirs(output_folder, exist_ok=True)\n",
    "\n",
    "headers = {\"X-App-Token\": \"LvzGOXrGAqB1eDxD7EoXm2ai3\"}\n",
    "\n",
    "def download(url, filename):\n",
    "    # Send an HTTP GET request to the specified URL\n",
    "    r = requests.get(url, stream=True,headers= headers)\n",
    "\n",
    "    # Check if the request was successful (HTTP status code 200)\n",
    "    if r.status_code == 200:\n",
    "        # Open the file in write-binary mode\n",
    "        with open(filename, 'ab') as f:\n",
    "            # Define the chunk size (e.g., 1024 bytes)\n",
    "\n",
    "            count = 0\n",
    "            # Download the file in chunks\n",
    "            for chunk in r.iter_content(chunk_size=chunk_size):\n",
    "                # print(f\"{filename} has download {count} data\")\n",
    "                f.write(chunk)\n",
    "                # count+=chunk_size\n",
    "\n",
    "        print(f\"\\n{filename}Download complete.\")\n",
    "    else:\n",
    "        print(\"Error: Failed to download the file.\")\n",
    "\n",
    "urls = [\"https://data.cityofnewyork.us/api/views/erm2-nwe9/rows.csv?accessType=DOWNLOAD\",\n",
    "        \"https://data.cityofnewyork.us/api/views/5rq2-4hqu/rows.csv?accessType=DOWNLOAD\",\n",
    "         \"https://data.cityofnewyork.us/api/views/wz6d-d3jb/rows.csv?date=20231209&accessType=DOWNLOAD\"]\n",
    "# urls = [\n",
    "#         \"https://data.cityofnewyork.us/api/views/5rq2-4hqu/rows.csv?accessType=DOWNLOAD\",\n",
    "#         \"https://data.cityofnewyork.us/api/views/wz6d-d3jb/rows.csv?date=20231209&accessType=DOWNLOAD\"]\n",
    "filenames = [\"data/311_Service_Requests.csv\",\"data/2015_Street_Tree_Census.csv\",\"data/Bedbug_Reporting.csv\"]\n",
    "# filenames = [\"data/2015_Street_Tree_Census.csv\",\"data/Bedbug_Reporting.csv\"]\n",
    "for i in range(len(urls)):\n",
    "    download(urls[i],filenames[i])"
   ]
  },
  {
   "cell_type": "code",
   "execution_count": null,
   "outputs": [],
   "source": [],
   "metadata": {
    "collapsed": false
   }
  }
 ],
 "metadata": {
  "kernelspec": {
   "display_name": "Python 3",
   "language": "python",
   "name": "python3"
  },
  "language_info": {
   "codemirror_mode": {
    "name": "ipython",
    "version": 2
   },
   "file_extension": ".py",
   "mimetype": "text/x-python",
   "name": "python",
   "nbconvert_exporter": "python",
   "pygments_lexer": "ipython2",
   "version": "2.7.6"
  }
 },
 "nbformat": 4,
 "nbformat_minor": 0
}
