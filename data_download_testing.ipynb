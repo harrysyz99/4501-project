{
 "cells": [
  {
   "cell_type": "code",
   "execution_count": 3,
   "outputs": [],
   "source": [
    "import requests\n",
    "\n",
    "def download_data(url: str, headers: dict, params: dict, file_name: str):\n",
    "    try:\n",
    "        print(\"start download...\")\n",
    "\n",
    "        with requests.get(url, headers=headers, params=params, stream=True) as response:\n",
    "            response.raise_for_status()\n",
    "\n",
    "            total_length = response.headers.get('content-length')\n",
    "            if total_length is None:  # No content length header\n",
    "                with open(file_name, 'wb') as f:\n",
    "                    f.write(response.content)\n",
    "            else:\n",
    "                total_length = int(total_length)\n",
    "                downloaded = 0\n",
    "\n",
    "                with open(file_name, 'wb') as f:\n",
    "                    for chunk in response.iter_content(chunk_size=8192): \n",
    "                        if chunk:\n",
    "                            f.write(chunk)\n",
    "                            downloaded += len(chunk)\n",
    "                            done = int(50 * downloaded / total_length)\n",
    "                            print(f\"\\r[{'=' * done}{' ' * (50-done)}] {downloaded * 100 / total_length:.2f}%\", end='')\n",
    "                \n",
    "        print(\"\\ndownload success！\")\n",
    "        print(f\"saved to: {file_name}\")\n",
    "\n",
    "    except requests.HTTPError as http_err:\n",
    "        print(f\"HTTP error occurred: {http_err}\")\n",
    "    except Exception as err:\n",
    "        print(f\"An error occurred: {err}\")\n",
    "\n"
   ],
   "metadata": {
    "collapsed": false,
    "ExecuteTime": {
     "end_time": "2023-12-10T15:44:00.922898Z",
     "start_time": "2023-12-10T15:44:00.913533Z"
    }
   }
  },
  {
   "cell_type": "code",
   "execution_count": 4,
   "outputs": [
    {
     "name": "stdout",
     "output_type": "stream",
     "text": [
      "start download...\n",
      "\n",
      "download success！\n",
      "saved to: data/Bedbug_Reporting_20231203.csv\n"
     ]
    }
   ],
   "source": [
    "api_url = \"https://data.cityofnewyork.us/resource/wz6d-d3jb.csv\"\n",
    "headers = {\"X-App-Token\": \"LvzGOXrGAqB1eDxD7EoXm2ai3\"}\n",
    "query_params = {\"$limit\": 99999999}\n",
    "file_name = \"data/Bedbug_Reporting_20231203.csv\"  # Specify the desired filename here\n",
    "\n",
    "# Call the function to download the data and save it to a file\n",
    "bedbug = download_data(api_url, headers, query_params, file_name)"
   ],
   "metadata": {
    "collapsed": false,
    "ExecuteTime": {
     "end_time": "2023-12-10T15:44:11.785312Z",
     "start_time": "2023-12-10T15:44:01.393885Z"
    }
   }
  },
  {
   "cell_type": "code",
   "execution_count": null,
   "outputs": [],
   "source": [
    "# Configuration parameters\n",
    "api_url = \"https://data.cityofnewyork.us/resource/erm2-nwe9.csv\"\n",
    "headers = {\"X-App-Token\": \"LvzGOXrGAqB1eDxD7EoXm2ai3\"}\n",
    "query_params = {\"$limit\": 99999999}\n",
    "file_name = \"data/311_Service_Requests_from_2010_to_Present_20231129.csv\"  # Specify the desired filename here\n",
    "\n",
    "# Call the function to download the data and save it to a file\n",
    "data_311 = download_data(api_url, headers, query_params, file_name)\n"
   ],
   "metadata": {
    "collapsed": false
   }
  },
  {
   "cell_type": "code",
   "execution_count": 5,
   "outputs": [
    {
     "name": "stdout",
     "output_type": "stream",
     "text": [
      "start download...\n",
      "\n",
      "download success！\n",
      "saved to: data/2015StreetTreesCensus_TREES.csv\n"
     ]
    }
   ],
   "source": [
    "api_url = \"https://data.cityofnewyork.us/resource/5rq2-4hqu.csv\"\n",
    "headers = {\"X-App-Token\": \"LvzGOXrGAqB1eDxD7EoXm2ai3\"}\n",
    "query_params = {\"$limit\": 99999999}\n",
    "file_name = \"data/2015StreetTreesCensus_TREES.csv\"  # Specify the desired filename here\n",
    "\n",
    "# Call the function to download the data and save it to a file\n",
    "stc = download_data(api_url, headers, query_params, file_name)"
   ],
   "metadata": {
    "collapsed": false,
    "ExecuteTime": {
     "end_time": "2023-12-10T15:44:55.440093Z",
     "start_time": "2023-12-10T15:44:11.786545Z"
    }
   }
  },
  {
   "cell_type": "code",
   "execution_count": null,
   "outputs": [],
   "source": [],
   "metadata": {
    "collapsed": false
   }
  }
 ],
 "metadata": {
  "kernelspec": {
   "display_name": "Python 3",
   "language": "python",
   "name": "python3"
  },
  "language_info": {
   "codemirror_mode": {
    "name": "ipython",
    "version": 2
   },
   "file_extension": ".py",
   "mimetype": "text/x-python",
   "name": "python",
   "nbconvert_exporter": "python",
   "pygments_lexer": "ipython2",
   "version": "2.7.6"
  }
 },
 "nbformat": 4,
 "nbformat_minor": 0
}
